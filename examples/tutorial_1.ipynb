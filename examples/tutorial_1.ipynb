{
 "cells": [
  {
   "cell_type": "markdown",
   "metadata": {},
   "source": [
    "# 0. Installation of necessary packages"
   ]
  },
  {
   "cell_type": "code",
   "execution_count": null,
   "metadata": {},
   "outputs": [],
   "source": [
    "# !pip install hestia-good PyTDC rdkit transformers mapchiral"
   ]
  },
  {
   "cell_type": "markdown",
   "metadata": {},
   "source": [
    "# 1. Data preparation\n",
    "\n",
    "In this tutorial, we will use the Ames' mutageneicity dataset from the TDC library"
   ]
  },
  {
   "cell_type": "code",
   "execution_count": null,
   "metadata": {},
   "outputs": [
    {
     "name": "stderr",
     "output_type": "stream",
     "text": [
      "Downloading...\n",
      "100%|██████████| 344k/344k [00:00<00:00, 717kiB/s]  \n",
      "Loading...\n",
      "Done!\n"
     ]
    },
    {
     "data": {
      "text/html": [
       "<div>\n",
       "<style scoped>\n",
       "    .dataframe tbody tr th:only-of-type {\n",
       "        vertical-align: middle;\n",
       "    }\n",
       "\n",
       "    .dataframe tbody tr th {\n",
       "        vertical-align: top;\n",
       "    }\n",
       "\n",
       "    .dataframe thead th {\n",
       "        text-align: right;\n",
       "    }\n",
       "</style>\n",
       "<table border=\"1\" class=\"dataframe\">\n",
       "  <thead>\n",
       "    <tr style=\"text-align: right;\">\n",
       "      <th></th>\n",
       "      <th>Drug_ID</th>\n",
       "      <th>Drug</th>\n",
       "      <th>Y</th>\n",
       "    </tr>\n",
       "  </thead>\n",
       "  <tbody>\n",
       "    <tr>\n",
       "      <th>0</th>\n",
       "      <td>Drug 0</td>\n",
       "      <td>O=[N+]([O-])c1ccc2ccc3ccc([N+](=O)[O-])c4c5ccc...</td>\n",
       "      <td>1</td>\n",
       "    </tr>\n",
       "    <tr>\n",
       "      <th>1</th>\n",
       "      <td>Drug 1</td>\n",
       "      <td>O=[N+]([O-])c1c2c(c3ccc4cccc5ccc1c3c45)CCCC2</td>\n",
       "      <td>1</td>\n",
       "    </tr>\n",
       "    <tr>\n",
       "      <th>2</th>\n",
       "      <td>Drug 2</td>\n",
       "      <td>O=c1c2ccccc2c(=O)c2c1ccc1c2[nH]c2c3c(=O)c4cccc...</td>\n",
       "      <td>0</td>\n",
       "    </tr>\n",
       "    <tr>\n",
       "      <th>3</th>\n",
       "      <td>Drug 3</td>\n",
       "      <td>[N-]=[N+]=CC(=O)NCC(=O)NN</td>\n",
       "      <td>1</td>\n",
       "    </tr>\n",
       "    <tr>\n",
       "      <th>4</th>\n",
       "      <td>Drug 4</td>\n",
       "      <td>[N-]=[N+]=C1C=NC(=O)NC1=O</td>\n",
       "      <td>1</td>\n",
       "    </tr>\n",
       "  </tbody>\n",
       "</table>\n",
       "</div>"
      ],
      "text/plain": [
       "  Drug_ID                                               Drug  Y\n",
       "0  Drug 0  O=[N+]([O-])c1ccc2ccc3ccc([N+](=O)[O-])c4c5ccc...  1\n",
       "1  Drug 1       O=[N+]([O-])c1c2c(c3ccc4cccc5ccc1c3c45)CCCC2  1\n",
       "2  Drug 2  O=c1c2ccccc2c(=O)c2c1ccc1c2[nH]c2c3c(=O)c4cccc...  0\n",
       "3  Drug 3                          [N-]=[N+]=CC(=O)NCC(=O)NN  1\n",
       "4  Drug 4                          [N-]=[N+]=C1C=NC(=O)NC1=O  1"
      ]
     },
     "execution_count": 2,
     "metadata": {},
     "output_type": "execute_result"
    }
   ],
   "source": [
    "import pandas as pd\n",
    "from tdc.single_pred import Tox\n",
    "\n",
    "data = Tox('ames')\n",
    "df = pd.read_csv('data/ames.tab', sep='\\t')\n",
    "df.head()"
   ]
  },
  {
   "cell_type": "markdown",
   "metadata": {},
   "source": [
    "# 2. Initialisating HestiaGenerator\n",
    "\n",
    "In this tutorial, we create two sets of partitions:\n",
    "1. The conventional `ECFP-4` fingerprint with 2,048 bits and Tanimoto index (faster, less resolution).\n",
    "2. A new fingerprint type called `MAPc`, also with radius 2 and 2,048 bits and Jaccard index (slower, more resolution)."
   ]
  },
  {
   "cell_type": "code",
   "execution_count": 16,
   "metadata": {},
   "outputs": [
    {
     "name": "stdout",
     "output_type": "stream",
     "text": [
      "Initialising Hestia Dataset Generator\n",
      "Number of items in data: 475\n",
      "Calculating similarity...\n",
      "Calculating molecular similarities using ecfp with 2,048 bits, radius 2 and tanimoto index...\n"
     ]
    },
    {
     "name": "stderr",
     "output_type": "stream",
     "text": [
      "Query FPs: 100%|██████████| 475/475 [00:00<00:00, 920kit/s]\n",
      "Similarity calculation: 100%|██████████| 475/475 [00:00<00:00, 4.24kit/s]\n"
     ]
    },
    {
     "name": "stdout",
     "output_type": "stream",
     "text": [
      "Similarity successfully calculated!\n",
      "Calculating partitions...\n"
     ]
    },
    {
     "name": "stderr",
     "output_type": "stream",
     "text": [
      "100%|██████████| 10/10 [00:00<00:00, 101.61it/s]"
     ]
    },
    {
     "name": "stdout",
     "output_type": "stream",
     "text": [
      "Partitions successfully calculated!\n"
     ]
    },
    {
     "name": "stderr",
     "output_type": "stream",
     "text": [
      "\n"
     ]
    }
   ],
   "source": [
    "from hestia import HestiaGenerator, SimArguments\n",
    "\n",
    "sim_args_1 = SimArguments(\n",
    "    # Change in case of biosequences, protein structures, or embeddings\n",
    "    data_type='molecule',\n",
    "    # Corresponds to the field with the molecule SMILES\n",
    "    field_name='Drug',\n",
    "    # Minimum threshold to attempt to find a viable partition, if memory problems it can be raised\n",
    "    min_threshold=0.,\n",
    "    verbose=3,\n",
    "    sim_function='tanimoto',\n",
    "    bits=2048,\n",
    "    # ECFP-4 has diameter 4, therefore radius 2\n",
    "    radius=2,\n",
    "    fingerprint='ecfp'\n",
    ")\n",
    "# Initialise generator\n",
    "hg_1 = HestiaGenerator(df, verbose=True)\n",
    "\n",
    "# Generate partitions with similarity function described above\n",
    "hg_1.calculate_partitions(\n",
    "    sim_args=sim_args_1,\n",
    "    # Label name for classification tasks, keeps label balance if possible\n",
    "    label_name='Y',\n",
    "    threshold_step=0.1,\n",
    "    test_size=0.2,\n",
    "    valid_size=0.1\n",
    ")\n"
   ]
  },
  {
   "cell_type": "code",
   "execution_count": 17,
   "metadata": {},
   "outputs": [
    {
     "name": "stdout",
     "output_type": "stream",
     "text": [
      "Initialising Hestia Dataset Generator\n",
      "Number of items in data: 475\n",
      "Calculating similarity...\n",
      "Calculating molecular similarities using mapc with 2,048 bits, radius 2 and jaccard index...\n"
     ]
    },
    {
     "name": "stderr",
     "output_type": "stream",
     "text": [
      "Query FPs: 100%|██████████| 475/475 [00:02<00:00, 201it/s]\n",
      "Similarity calculation: 100%|██████████| 475/475 [00:00<00:00, 1.79kit/s]\n"
     ]
    },
    {
     "name": "stdout",
     "output_type": "stream",
     "text": [
      "Similarity successfully calculated!\n",
      "Calculating partitions...\n"
     ]
    },
    {
     "name": "stderr",
     "output_type": "stream",
     "text": [
      "100%|██████████| 10/10 [00:00<00:00, 149.49it/s]"
     ]
    },
    {
     "name": "stdout",
     "output_type": "stream",
     "text": [
      "Partitions successfully calculated!\n"
     ]
    },
    {
     "name": "stderr",
     "output_type": "stream",
     "text": [
      "\n"
     ]
    }
   ],
   "source": [
    "sim_args_2 = SimArguments(\n",
    "    data_type='molecule',\n",
    "    field_name='Drug',\n",
    "    min_threshold=0.,\n",
    "    verbose=3,\n",
    "    # Changed to jaccard\n",
    "    sim_function='jaccard',\n",
    "    bits=2048,\n",
    "    radius=2,\n",
    "    # Changed to MAPc\n",
    "    fingerprint='mapc'\n",
    ")\n",
    "# Initialise generator\n",
    "hg_2 = HestiaGenerator(df, verbose=True)\n",
    "\n",
    "# Generate partitions with similarity function described above\n",
    "hg_2.calculate_partitions(\n",
    "    sim_args=sim_args_2,\n",
    "    # Label name for classification tasks, keeps label balance if possible\n",
    "    label_name='Y',\n",
    "    threshold_step=0.1,\n",
    "    test_size=0.2,\n",
    "    valid_size=0.1,\n",
    ")"
   ]
  },
  {
   "cell_type": "markdown",
   "metadata": {},
   "source": [
    "# 3. Evaluation of similarity functions\n",
    "\n",
    "In this tutorial, we will use a linear SVM with ECFP-4 with 2,048 bits as its features to evaluate the similarity functions."
   ]
  },
  {
   "cell_type": "code",
   "execution_count": 18,
   "metadata": {},
   "outputs": [
    {
     "name": "stderr",
     "output_type": "stream",
     "text": [
      "Features: 100%|██████████| 475/475 [00:00<00:00, 1.01Mit/s]\n"
     ]
    },
    {
     "name": "stdout",
     "output_type": "stream",
     "text": [
      "Computing partitions: 0.3 for sim function: 0\n",
      "Computing partitions: 0.4 for sim function: 0\n",
      "Computing partitions: 0.5 for sim function: 0\n",
      "Computing partitions: 0.6 for sim function: 0\n",
      "Computing partitions: 0.7 for sim function: 0\n",
      "Computing partitions: 0.8 for sim function: 0\n",
      "Computing partitions: 0.9 for sim function: 0\n",
      "Computing partitions: random for sim function: 0\n",
      "Computing partitions: 0.1 for sim function: 1\n",
      "Computing partitions: 0.2 for sim function: 1\n",
      "Computing partitions: 0.3 for sim function: 1\n",
      "Computing partitions: 0.4 for sim function: 1\n",
      "Computing partitions: 0.5 for sim function: 1\n",
      "Computing partitions: 0.6 for sim function: 1\n",
      "Computing partitions: 0.7 for sim function: 1\n",
      "Computing partitions: 0.8 for sim function: 1\n",
      "Computing partitions: 0.9 for sim function: 1\n",
      "Computing partitions: random for sim function: 1\n"
     ]
    }
   ],
   "source": [
    "import numpy as np\n",
    "from rdkit import Chem\n",
    "from rdkit.Chem import rdFingerprintGenerator\n",
    "from tqdm import tqdm\n",
    "from concurrent.futures import ThreadPoolExecutor\n",
    "from multiprocessing import cpu_count\n",
    "from typing import List\n",
    "from sklearn.metrics import matthews_corrcoef\n",
    "from sklearn.svm import LinearSVC\n",
    "\n",
    "# Define fingerprints for featurization\n",
    "fpgen = rdFingerprintGenerator.GetMorganGenerator(\n",
    "    radius=2, fpSize=2048\n",
    ")\n",
    "def _get_fp(smile: str):\n",
    "    mol = Chem.MolFromSmiles(smile)\n",
    "    fp = fpgen.GetFingerprintAsNumPy(mol).astype(np.int8)\n",
    "    return fp\n",
    "\n",
    "# Calculate FPs in parallel\n",
    "def _parallel_fps(mols: List[str], mssg: str) -> list:\n",
    "    fps = []\n",
    "    jobs = []\n",
    "    with ThreadPoolExecutor(max_workers=cpu_count()) as executor:\n",
    "        for mol in mols:\n",
    "            job = executor.submit(_get_fp, mol)\n",
    "            jobs.append(job)\n",
    "\n",
    "        pbar = tqdm(jobs, desc=mssg, unit_scale=True,\n",
    "                    mininterval=0.5, maxinterval=2)\n",
    "\n",
    "        for job in pbar:\n",
    "            if job.exception() is not None:\n",
    "                raise RuntimeError(job.exception())\n",
    "            result = job.result()\n",
    "            fps.append(result)\n",
    "    return fps\n",
    "\n",
    "#  We define the features and labels for the model\n",
    "x = np.stack(_parallel_fps(df.Drug.tolist(), \"Features\"))\n",
    "y = df.Y.to_numpy()\n",
    "result = {\n",
    "    'sim_function': [],\n",
    "    'threshold': [],\n",
    "    'performance': []\n",
    "}\n",
    "\n",
    "# We iterate over both similarity functions\n",
    "for sim_idx, hg in enumerate([hg_1, hg_2]):\n",
    "\n",
    "    # We filter non-viable partitions (those with test set with less than 18.5% of the total data)\n",
    "    for th, part in hg.get_partitions(filter=0.185):\n",
    "        print(f\"Computing partitions: {th} for sim function: {sim_idx}\")\n",
    "        train_x, valid_x, test_x = x[part['train']], x[part['valid']], x[part['test']]\n",
    "        train_y, valid_y, test_y = y[part['train']], y[part['valid']], y[part['test']]\n",
    "        result['sim_function'].append(sim_idx)\n",
    "        result['threshold'].append(th)\n",
    "        model = LinearSVC()\n",
    "        model.fit(train_x, train_y)\n",
    "        test_y_pred = model.predict(test_x)\n",
    "        result['performance'].append(matthews_corrcoef(test_y_pred, test_y))\n",
    "\n",
    "result_df = pd.DataFrame(result)\n"
   ]
  },
  {
   "cell_type": "markdown",
   "metadata": {},
   "source": [
    "## 3.1 Visual inspection"
   ]
  },
  {
   "cell_type": "code",
   "execution_count": 19,
   "metadata": {},
   "outputs": [
    {
     "data": {
      "text/plain": [
       "<Axes: xlabel='threshold', ylabel='performance'>"
      ]
     },
     "execution_count": 19,
     "metadata": {},
     "output_type": "execute_result"
    },
    {
     "data": {
      "image/png": "[encoded data removed]",
      "text/plain": [
       "<Figure size 640x480 with 1 Axes>"
      ]
     },
     "metadata": {},
     "output_type": "display_data"
    }
   ],
   "source": [
    "import seaborn as sns\n",
    "\n",
    "sim_functions = ['ECFP-4 Tanimoto', \"MAPc-4 Jaccard\"]\n",
    "result_df['sim_function'] = result_df.sim_function.map(lambda x: sim_functions[x])\n",
    "result_df = result_df[result_df.threshold != 'random']\n",
    "sns.lineplot(result_df, x='threshold', y='performance', hue='sim_function', err_style='bars')"
   ]
  },
  {
   "cell_type": "markdown",
   "metadata": {},
   "source": [
    "Both curves are somewhat noisy, this can be mitigated by performing cross-validation to reduce the effect of model stochasticity in the results.\n",
    "\n",
    "However, MAPc shows a larger threshold range and a greater distance between highest and lowest point showing increased resolution. Next step will provide quantitative measures for those qualitative observations."
   ]
  },
  {
   "cell_type": "markdown",
   "metadata": {},
   "source": [
    "## 3.2 Quantitative analysis\n",
    "\n",
    "We provide two quantitative measures to compare the similarity functions:\n",
    "\n",
    "1. `dynamic range`: distance between maximum and minimum viable thresholds\n",
    "2. `monotonicity`: non-linear correlation (Spearman's $\\rho$) between threshold and model performance. Closer to 1 means that the model performance **is** a function of the threshold. And therefore the similarity function is reliable, closer to 0 means the opposite.\n",
    "\n",
    "A similarity function should have a decent dynamic range and as great a monotonicity as possible. Monotonicities below 0.4 are unreliable."
   ]
  },
  {
   "cell_type": "code",
   "execution_count": 20,
   "metadata": {},
   "outputs": [
    {
     "name": "stdout",
     "output_type": "stream",
     "text": [
      "ECFP-4 Tanimoto - monotonicity: 0.8829187134416479 - dynamic range: 0.6000000000000001\n",
      "MAPc-4 Jaccard - monotonicity: 0.9623515200690814 - dynamic range: 0.8\n"
     ]
    }
   ],
   "source": [
    "c_1 = result_df[result_df['sim_function'] == sim_functions[0]]\n",
    "monotonicity, dynamic_range = hg.evaluate_curve(c_1.threshold, c_1.performance)\n",
    "print(f\"{sim_functions[0]} - monotonicity: {monotonicity} - dynamic range: {dynamic_range}\")\n",
    "c_2 = result_df[result_df['sim_function'] == sim_functions[1]]\n",
    "monotonicity, dynamic_range = hg.evaluate_curve(c_2.threshold, c_2.performance)\n",
    "print(f\"{sim_functions[1]} - monotonicity: {monotonicity} - dynamic range: {dynamic_range}\")\n"
   ]
  },
  {
   "cell_type": "markdown",
   "metadata": {},
   "source": [
    "The MAPc-4 Jaccard similarity function is superior both in terms of its monotonicity and dynamic range"
   ]
  },
  {
   "cell_type": "markdown",
   "metadata": {},
   "source": [
    "# 4. Evaluation of other models\n",
    "\n",
    "Here now we will use the `hg_2` with the best similarity function we've found so far, for evaluating the linear SVM against a random forest"
   ]
  },
  {
   "cell_type": "code",
   "execution_count": 21,
   "metadata": {},
   "outputs": [
    {
     "name": "stdout",
     "output_type": "stream",
     "text": [
      "Computing partitions: 0.1 for model: svm\n",
      "Computing partitions: 0.2 for model: svm\n",
      "Computing partitions: 0.3 for model: svm\n",
      "Computing partitions: 0.4 for model: svm\n",
      "Computing partitions: 0.5 for model: svm\n",
      "Computing partitions: 0.6 for model: svm\n",
      "Computing partitions: 0.7 for model: svm\n",
      "Computing partitions: 0.8 for model: svm\n",
      "Computing partitions: 0.9 for model: svm\n",
      "Computing partitions: random for model: svm\n",
      "Computing partitions: 0.1 for model: rf\n",
      "Computing partitions: 0.2 for model: rf\n",
      "Computing partitions: 0.3 for model: rf\n",
      "Computing partitions: 0.4 for model: rf\n",
      "Computing partitions: 0.5 for model: rf\n",
      "Computing partitions: 0.6 for model: rf\n",
      "Computing partitions: 0.7 for model: rf\n",
      "Computing partitions: 0.8 for model: rf\n",
      "Computing partitions: 0.9 for model: rf\n",
      "Computing partitions: random for model: rf\n"
     ]
    }
   ],
   "source": [
    "from sklearn.ensemble import RandomForestClassifier\n",
    "result = {\n",
    "    'model': [],\n",
    "    'threshold': [],\n",
    "    'performance': []\n",
    "}\n",
    "for model in ['svm', 'rf']:\n",
    "    for th, part in hg_2.get_partitions(filter=0.185):\n",
    "        print(f\"Computing partitions: {th} for model: {model}\")\n",
    "        train_x, valid_x, test_x = x[part['train']], x[part['valid']], x[part['test']]\n",
    "        train_y, valid_y, test_y = y[part['train']], y[part['valid']], y[part['test']]\n",
    "        result['model'].append(model)\n",
    "        result['threshold'].append(th)\n",
    "        if model == 'svm':\n",
    "            c = LinearSVC()\n",
    "        else:\n",
    "            c = RandomForestClassifier(n_estimators=100)\n",
    "        c.fit(train_x, train_y)\n",
    "        test_y_pred = c.predict(test_x)\n",
    "        result['performance'].append(matthews_corrcoef(test_y_pred, test_y))\n",
    "\n",
    "\n",
    "result_df = pd.DataFrame(result)"
   ]
  },
  {
   "cell_type": "markdown",
   "metadata": {},
   "source": [
    "## 4.1 GOOD curve"
   ]
  },
  {
   "cell_type": "code",
   "execution_count": 22,
   "metadata": {},
   "outputs": [
    {
     "data": {
      "text/plain": [
       "<Axes: xlabel='threshold', ylabel='performance'>"
      ]
     },
     "execution_count": 22,
     "metadata": {},
     "output_type": "execute_result"
    },
    {
     "data": {
      "image/png": "[encoded data removed]",
      "text/plain": [
       "<Figure size 640x480 with 1 Axes>"
      ]
     },
     "metadata": {},
     "output_type": "display_data"
    }
   ],
   "source": [
    "# Plot GOOD curve\n",
    "result_df = result_df[result_df['threshold'] != 'random']\n",
    "sns.lineplot(result_df, x='threshold', y='performance', hue='model')"
   ]
  },
  {
   "cell_type": "markdown",
   "metadata": {},
   "source": [
    "Though, they both have similar performance and in some thresholds even identical, the `RandomForest` achieves better performance overall. Choosing one threshold alone, might have led to incorrect conclusions about their differences."
   ]
  },
  {
   "cell_type": "markdown",
   "metadata": {},
   "source": [
    "## 4.2 AU-GOOD metric\n",
    "\n",
    "Let us consider the case where we want to apply this dataset to the drug repurposing hub. We can estimate the model performance for that target distribution through the calculation of the AU-GOOD metric."
   ]
  },
  {
   "cell_type": "code",
   "execution_count": 23,
   "metadata": {},
   "outputs": [
    {
     "data": {
      "text/html": [
       "<div>\n",
       "<style scoped>\n",
       "    .dataframe tbody tr th:only-of-type {\n",
       "        vertical-align: middle;\n",
       "    }\n",
       "\n",
       "    .dataframe tbody tr th {\n",
       "        vertical-align: top;\n",
       "    }\n",
       "\n",
       "    .dataframe thead th {\n",
       "        text-align: right;\n",
       "    }\n",
       "</style>\n",
       "<table border=\"1\" class=\"dataframe\">\n",
       "  <thead>\n",
       "    <tr style=\"text-align: right;\">\n",
       "      <th></th>\n",
       "      <th>SMILES</th>\n",
       "    </tr>\n",
       "  </thead>\n",
       "  <tbody>\n",
       "    <tr>\n",
       "      <th>0</th>\n",
       "      <td>CN1CCc2cccc-3c2[C@H]1Cc1ccc(O)c(O)c-31</td>\n",
       "    </tr>\n",
       "    <tr>\n",
       "      <th>1</th>\n",
       "      <td>CN1CCc2cccc-3c2[C@H]1Cc1ccc(O)c(O)c-31</td>\n",
       "    </tr>\n",
       "    <tr>\n",
       "      <th>2</th>\n",
       "      <td>CN1CCc2cccc-3c2[C@H]1Cc1ccc(O)c(O)c-31</td>\n",
       "    </tr>\n",
       "    <tr>\n",
       "      <th>3</th>\n",
       "      <td>CN1CCc2cccc-3c2[C@H]1Cc1ccc(O)c(O)c-31</td>\n",
       "    </tr>\n",
       "    <tr>\n",
       "      <th>4</th>\n",
       "      <td>COc1ccc(cc1OC1CCCC1)[C@@H]1CNC(=O)C1</td>\n",
       "    </tr>\n",
       "  </tbody>\n",
       "</table>\n",
       "</div>"
      ],
      "text/plain": [
       "                                   SMILES\n",
       "0  CN1CCc2cccc-3c2[C@H]1Cc1ccc(O)c(O)c-31\n",
       "1  CN1CCc2cccc-3c2[C@H]1Cc1ccc(O)c(O)c-31\n",
       "2  CN1CCc2cccc-3c2[C@H]1Cc1ccc(O)c(O)c-31\n",
       "3  CN1CCc2cccc-3c2[C@H]1Cc1ccc(O)c(O)c-31\n",
       "4    COc1ccc(cc1OC1CCCC1)[C@@H]1CNC(=O)C1"
      ]
     },
     "execution_count": 23,
     "metadata": {},
     "output_type": "execute_result"
    }
   ],
   "source": [
    "target_df = pd.read_csv('data/drh.tsv', sep='\\t')\n",
    "smiles = target_df['SMILES']\n",
    "new_smiles = []\n",
    "for smile in smiles:\n",
    "    if isinstance(smile, float):\n",
    "        continue\n",
    "    if ',' in smile:\n",
    "        in_smiles = smile.split(', ')\n",
    "        new_smiles.extend(in_smiles)\n",
    "    else:\n",
    "        new_smiles.append(smile)\n",
    "new_smiles = [s if '|' not in s else s.split('|')[0] for s in new_smiles]\n",
    "tgt_df = pd.DataFrame({'SMILES': new_smiles})\n",
    "tgt_df.head()"
   ]
  },
  {
   "cell_type": "code",
   "execution_count": 24,
   "metadata": {},
   "outputs": [
    {
     "name": "stdout",
     "output_type": "stream",
     "text": [
      "Calculating similarity...\n",
      "Calculating molecular similarities using mapc with 2,048 bits, radius 2 and jaccard index...\n"
     ]
    },
    {
     "name": "stderr",
     "output_type": "stream",
     "text": [
      "Query FPs: 100%|██████████| 475/475 [00:02<00:00, 200it/s]\n",
      "Target FPs: 100%|██████████| 20.3k/20.3k [00:38<00:00, 530it/s]  \n",
      "Similarity calculation: 100%|██████████| 475/475 [00:08<00:00, 58.8it/s] \n"
     ]
    },
    {
     "name": "stdout",
     "output_type": "stream",
     "text": [
      "Similarity successfully calculated!\n",
      "Calculating similarity...\n",
      "Calculating molecular similarities using mapc with 2,048 bits, radius 2 and jaccard index...\n"
     ]
    },
    {
     "name": "stderr",
     "output_type": "stream",
     "text": [
      "Query FPs: 100%|██████████| 475/475 [00:02<00:00, 219it/s]\n",
      "Target FPs: 100%|██████████| 20.3k/20.3k [00:08<00:00, 2.29kit/s]\n",
      "Similarity calculation: 100%|██████████| 475/475 [00:08<00:00, 55.6it/s] \n"
     ]
    },
    {
     "name": "stdout",
     "output_type": "stream",
     "text": [
      "Similarity successfully calculated!\n",
      "AU-GOOD for model: svm against Drug Repurposing Hub is 0.942\n",
      "AU-GOOD for model: rf against Drug Repurposing Hub is 0.955\n"
     ]
    }
   ],
   "source": [
    "values = []\n",
    "for model in ['svm', 'rf']:\n",
    "    mini_df = result_df[result_df['model'] == model]\n",
    "    good_curve, augood = hg_2.calculate_augood(\n",
    "        results={th: val for th, val in zip(mini_df.threshold, mini_df.performance)},\n",
    "        target_df=tgt_df,\n",
    "        target_field_name='SMILES',\n",
    "        return_weights=False\n",
    "    )\n",
    "    values.append(augood)\n",
    "for idx, model in enumerate(['svm', 'rf']):\n",
    "    print(f\"AU-GOOD for model: {model} against Drug Repurposing Hub is {values[idx]:.3g}\")"
   ]
  },
  {
   "cell_type": "markdown",
   "metadata": {},
   "source": [
    "# 5. Save/Load Hestia Generator"
   ]
  },
  {
   "cell_type": "code",
   "execution_count": 25,
   "metadata": {},
   "outputs": [
    {
     "name": "stdout",
     "output_type": "stream",
     "text": [
      "Initialising Hestia Dataset Generator\n",
      "Number of items in data: 475\n"
     ]
    }
   ],
   "source": [
    "hg_2.save_precalculated('dili_partitions.gz')\n",
    "\n",
    "hg_3 = HestiaGenerator(df)\n",
    "hg_3.from_precalculated('dili_partitions.gz')"
   ]
  }
 ],
 "metadata": {
  "kernelspec": {
   "display_name": "hestia",
   "language": "python",
   "name": "python3"
  },
  "language_info": {
   "codemirror_mode": {
    "name": "ipython",
    "version": 3
   },
   "file_extension": ".py",
   "mimetype": "text/x-python",
   "name": "python",
   "nbconvert_exporter": "python",
   "pygments_lexer": "ipython3",
   "version": "3.11.8"
  }
 },
 "nbformat": 4,
 "nbformat_minor": 2
}
